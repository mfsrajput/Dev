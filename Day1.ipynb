{
  "nbformat": 4,
  "nbformat_minor": 0,
  "metadata": {
    "colab": {
      "provenance": [],
      "authorship_tag": "ABX9TyM4XAohl62jdn1nkU3pfBOG",
      "include_colab_link": true
    },
    "kernelspec": {
      "name": "python3",
      "display_name": "Python 3"
    },
    "language_info": {
      "name": "python"
    }
  },
  "cells": [
    {
      "cell_type": "markdown",
      "metadata": {
        "id": "view-in-github",
        "colab_type": "text"
      },
      "source": [
        "<a href=\"https://colab.research.google.com/github/mfsrajput/Dev/blob/main/Day1.ipynb\" target=\"_parent\"><img src=\"https://colab.research.google.com/assets/colab-badge.svg\" alt=\"Open In Colab\"/></a>"
      ]
    },
    {
      "cell_type": "code",
      "source": [
        "first_name = \"Farhan\"\n",
        "last_name = \"Rajput\"\n",
        "print(f\"\"\"As Salam Alikum Python Learnes! Its me {first_name},{last_name}🚀\n",
        "Today is the first step in our coding journey.\"\"\")"
      ],
      "metadata": {
        "colab": {
          "base_uri": "https://localhost:8080/"
        },
        "id": "_5uXlx6jVgxw",
        "outputId": "6f9fa9f0-d183-4a1c-9d9e-0844cb3b0656"
      },
      "execution_count": 4,
      "outputs": [
        {
          "output_type": "stream",
          "name": "stdout",
          "text": [
            "As Salam Alikum Python Learnes! Its me Farhan,Rajput🚀\n",
            "Today is the first step in our coding journey.\n"
          ]
        }
      ]
    }
  ]
}